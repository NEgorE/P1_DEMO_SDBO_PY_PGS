{
 "cells": [
  {
   "cell_type": "code",
   "execution_count": 2,
   "metadata": {},
   "outputs": [],
   "source": [
    "import pyodbc"
   ]
  },
  {
   "cell_type": "code",
   "execution_count": 7,
   "metadata": {},
   "outputs": [],
   "source": [
    "creds_SQL = 'Driver={SQL Server};Server=DESKTOP-NOR5JCO\\SQLSERVER2019;UID=for_1py1;PWD=for_py1;Dtabase=DB_DEMO_SDBO'\n",
    "cres_PRG=\"DRIVER={PostgreSQL Unicode};Server=localhost;port=5432;UID=for_py1;PWD=for_py1;Database=test\""
   ]
  },
  {
   "cell_type": "code",
   "execution_count": 8,
   "metadata": {},
   "outputs": [
    {
     "ename": "InterfaceError",
     "evalue": "('28000', \"[28000] [Microsoft][ODBC SQL Server Driver][SQL Server]Login failed for user 'for_1py1'. (18456) (SQLDriverConnect); [28000] [Microsoft][ODBC SQL Server Driver]Недопустимый атрибут строки соединения (0); [28000] [Microsoft][ODBC SQL Server Driver][SQL Server]Login failed for user 'for_1py1'. (18456); [28000] [Microsoft][ODBC SQL Server Driver]Недопустимый атрибут строки соединения (0)\")",
     "output_type": "error",
     "traceback": [
      "\u001b[1;31m---------------------------------------------------------------------------\u001b[0m",
      "\u001b[1;31mInterfaceError\u001b[0m                            Traceback (most recent call last)",
      "\u001b[1;32m~\\AppData\\Local\\Temp/ipykernel_22760/3216829003.py\u001b[0m in \u001b[0;36m<module>\u001b[1;34m\u001b[0m\n\u001b[1;32m----> 1\u001b[1;33m \u001b[0mconn1\u001b[0m \u001b[1;33m=\u001b[0m \u001b[0mpyodbc\u001b[0m\u001b[1;33m.\u001b[0m\u001b[0mconnect\u001b[0m\u001b[1;33m(\u001b[0m\u001b[0mcreds_SQL\u001b[0m\u001b[1;33m)\u001b[0m\u001b[1;33m\u001b[0m\u001b[1;33m\u001b[0m\u001b[0m\n\u001b[0m\u001b[0;32m      2\u001b[0m \u001b[0mconn2\u001b[0m \u001b[1;33m=\u001b[0m \u001b[0mpyodbc\u001b[0m\u001b[1;33m.\u001b[0m\u001b[0mconnect\u001b[0m\u001b[1;33m(\u001b[0m\u001b[0mcres_PRG\u001b[0m\u001b[1;33m)\u001b[0m\u001b[1;33m\u001b[0m\u001b[1;33m\u001b[0m\u001b[0m\n",
      "\u001b[1;31mInterfaceError\u001b[0m: ('28000', \"[28000] [Microsoft][ODBC SQL Server Driver][SQL Server]Login failed for user 'for_1py1'. (18456) (SQLDriverConnect); [28000] [Microsoft][ODBC SQL Server Driver]Недопустимый атрибут строки соединения (0); [28000] [Microsoft][ODBC SQL Server Driver][SQL Server]Login failed for user 'for_1py1'. (18456); [28000] [Microsoft][ODBC SQL Server Driver]Недопустимый атрибут строки соединения (0)\")"
     ]
    }
   ],
   "source": [
    "conn1 = pyodbc.connect(creds_SQL)\n",
    "conn2 = pyodbc.connect(cres_PRG)"
   ]
  },
  {
   "cell_type": "code",
   "execution_count": null,
   "metadata": {},
   "outputs": [],
   "source": [
    "cursor = conn.cursor()\n",
    "cursor.execute('select * from DB_DEMO_SDBO.dbo.SSIS_LOG order by 1 desc')\n",
    "#cursor.execute('delete from dbo.SSIS_LOG where start_id=1')\n",
    "for i in cursor:\n",
    "    print(i)\n",
    "\n",
    "conn.commit()\n",
    "conn.close()"
   ]
  },
  {
   "cell_type": "code",
   "execution_count": 71,
   "metadata": {},
   "outputs": [
    {
     "name": "stdout",
     "output_type": "stream",
     "text": [
      "(1, 'lol@mail.com')\n",
      "(2, 'bil@mail.com')\n",
      "(3, 'mal@mail.com')\n",
      "(4, 'del@mail.com')\n",
      "(5, 'lol@mail.com')\n",
      "(6, 'lol@mail.com')\n",
      "(7, 'bil@mail.com')\n"
     ]
    }
   ],
   "source": [
    "cursor = conn2.cursor()\n",
    "cursor.execute('SELECT \"EmpID\",trim(\"Email\") as email FROM test.test1')\n",
    "#cursor.execute('delete from dbo.SSIS_LOG where start_id=1')\n",
    "for i in cursor:\n",
    "    print(i)\n",
    "\n",
    "conn2.commit()\n",
    "conn2.close()"
   ]
  }
 ],
 "metadata": {
  "interpreter": {
   "hash": "e4788f9297edf411b108ba55a6e694b6e02832ee4296840140cf27de31b86993"
  },
  "kernelspec": {
   "display_name": "Python 3.9.7 ('base')",
   "language": "python",
   "name": "python3"
  },
  "language_info": {
   "codemirror_mode": {
    "name": "ipython",
    "version": 3
   },
   "file_extension": ".py",
   "mimetype": "text/x-python",
   "name": "python",
   "nbconvert_exporter": "python",
   "pygments_lexer": "ipython3",
   "version": "3.9.7"
  },
  "orig_nbformat": 4
 },
 "nbformat": 4,
 "nbformat_minor": 2
}
