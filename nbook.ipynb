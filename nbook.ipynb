{
 "cells": [
  {
   "cell_type": "code",
   "execution_count": 19,
   "metadata": {},
   "outputs": [],
   "source": [
    "import psycopg2 as psg2\n",
    "from psycopg2 import Error\n",
    "from psycopg2.extensions import ISOLATION_LEVEL_AUTOCOMMIT\n"
   ]
  },
  {
   "cell_type": "code",
   "execution_count": 28,
   "metadata": {},
   "outputs": [],
   "source": [
    "db_con_param = dict(database='test', user='for_py1', password='for_py1', host='localhost',\n",
    "                                 port='5432')"
   ]
  },
  {
   "cell_type": "code",
   "execution_count": 39,
   "metadata": {},
   "outputs": [
    {
     "name": "stdout",
     "output_type": "stream",
     "text": [
      "Connection success PostgreSQL\n"
     ]
    }
   ],
   "source": [
    "try:\n",
    "   conn = psg2.connect(**db_con_param) \n",
    "   print(\"Connection success PostgreSQL\")\n",
    "except (Exception, Error) as error:\n",
    "   print(\"Ошибка при работе с PostgreSQL\", error)"
   ]
  },
  {
   "cell_type": "code",
   "execution_count": 40,
   "metadata": {},
   "outputs": [
    {
     "name": "stdout",
     "output_type": "stream",
     "text": [
      "(1, 'lol@mail.com')\n",
      "(2, 'bil@mail.com')\n",
      "(3, 'mal@mail.com')\n",
      "(4, 'del@mail.com')\n",
      "(5, 'lol@mail.com')\n",
      "(6, 'lol@mail.com')\n",
      "(7, 'bil@mail.com')\n"
     ]
    }
   ],
   "source": [
    "cur = conn.cursor()\n",
    "cur.execute('SELECT \"EmpID\",trim(\"Email\") as email FROM test.test1')\n",
    "res_sel = cur.fetchall()\n",
    "for row in res_sel:\n",
    "    print(row)"
   ]
  },
  {
   "cell_type": "code",
   "execution_count": 24,
   "metadata": {},
   "outputs": [
    {
     "name": "stdout",
     "output_type": "stream",
     "text": [
      "Ошибка при работе с PostgreSQL \n"
     ]
    }
   ],
   "source": [
    "try:\n",
    "    # Подключение к существующей базе данных\n",
    "    connection = psg2.connect(**db_con_param)\n",
    "    connection.set_isolation_level(ISOLATION_LEVEL_AUTOCOMMIT)\n",
    "    # Курсор для выполнения операций с базой данных\n",
    "    cursor = connection.cursor()\n",
    "    sql_create_database = 'create database postgres_db'\n",
    "    cursor.execute(sql_create_database)\n",
    "except (Exception, Error) as error:\n",
    "    print(\"Ошибка при работе с PostgreSQL\", error)"
   ]
  }
 ],
 "metadata": {
  "interpreter": {
   "hash": "e4788f9297edf411b108ba55a6e694b6e02832ee4296840140cf27de31b86993"
  },
  "kernelspec": {
   "display_name": "Python 3.9.7 ('base')",
   "language": "python",
   "name": "python3"
  },
  "language_info": {
   "codemirror_mode": {
    "name": "ipython",
    "version": 3
   },
   "file_extension": ".py",
   "mimetype": "text/x-python",
   "name": "python",
   "nbconvert_exporter": "python",
   "pygments_lexer": "ipython3",
   "version": "3.9.7"
  },
  "orig_nbformat": 4
 },
 "nbformat": 4,
 "nbformat_minor": 2
}
