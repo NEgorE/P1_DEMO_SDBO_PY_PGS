{
 "cells": [
  {
   "cell_type": "code",
   "execution_count": 3,
   "metadata": {},
   "outputs": [],
   "source": [
    "from xml.dom import minidom\n",
    "file = minidom.parse('config.xml')"
   ]
  },
  {
   "cell_type": "code",
   "execution_count": null,
   "metadata": {},
   "outputs": [],
   "source": []
  },
  {
   "cell_type": "code",
   "execution_count": 9,
   "metadata": {},
   "outputs": [
    {
     "name": "stdout",
     "output_type": "stream",
     "text": [
      "\n",
      "All attributes:\n",
      "<DOM Element: DB at 0x2bda116f670>\n"
     ]
    }
   ],
   "source": [
    "models = file.getElementsByTagName('DB')\n",
    "print('\\nAll attributes:')\n",
    "for elem in models:\n",
    "  print(elem)"
   ]
  },
  {
   "cell_type": "code",
   "execution_count": 49,
   "metadata": {},
   "outputs": [],
   "source": [
    "import xml.etree.ElementTree as ET"
   ]
  },
  {
   "cell_type": "code",
   "execution_count": 51,
   "metadata": {},
   "outputs": [
    {
     "name": "stdout",
     "output_type": "stream",
     "text": [
      "information\n",
      "{'name': 'Information'}\n",
      "<class 'dict'>\n"
     ]
    }
   ],
   "source": [
    "tree = ET.parse('config.xml')\n",
    "root = tree.getroot()\n",
    "print(root.tag)\n",
    "print(root.attrib)\n",
    "print(type(root.attrib))"
   ]
  },
  {
   "cell_type": "code",
   "execution_count": 52,
   "metadata": {},
   "outputs": [
    {
     "name": "stdout",
     "output_type": "stream",
     "text": [
      "sourse {'name': 'MS_SQL', 'type': '', 'ip': '', 'user': '', 'password': ''}\n",
      "sourse {'name': 'MS_SQLlol', 'type': '', 'ip': '', 'user': '', 'password': ''}\n"
     ]
    }
   ],
   "source": [
    "tree = ET.parse('config.xml')\n",
    "for child in root:\n",
    "    print(child.tag, child.attrib)"
   ]
  }
 ],
 "metadata": {
  "interpreter": {
   "hash": "e4788f9297edf411b108ba55a6e694b6e02832ee4296840140cf27de31b86993"
  },
  "kernelspec": {
   "display_name": "Python 3.9.7 ('base')",
   "language": "python",
   "name": "python3"
  },
  "language_info": {
   "codemirror_mode": {
    "name": "ipython",
    "version": 3
   },
   "file_extension": ".py",
   "mimetype": "text/x-python",
   "name": "python",
   "nbconvert_exporter": "python",
   "pygments_lexer": "ipython3",
   "version": "3.9.7"
  },
  "orig_nbformat": 4
 },
 "nbformat": 4,
 "nbformat_minor": 2
}
